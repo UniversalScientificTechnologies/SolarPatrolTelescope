{
 "cells": [
  {
   "cell_type": "code",
   "execution_count": 45,
   "metadata": {},
   "outputs": [],
   "source": [
    "import astropy.units as u\n",
    "\n",
    "from astropy.coordinates import SkyCoord\n",
    "import sunpy.coordinates\n",
    "from astroplan import Observer\n",
    "import astropy.units as u\n",
    "import time"
   ]
  },
  {
   "cell_type": "code",
   "execution_count": 60,
   "metadata": {},
   "outputs": [],
   "source": [
    "sc = SkyCoord(100*u.arcsec, 0.1*u.deg, frame='helioprojective', observer='earth', obstime = datetime.datetime.now().isoformat() )\n",
    "#obs = Observer(longitude=49*u.deg, latitude=15*u.deg, elevation=400*u.m, name=\"Ondrejov\")"
   ]
  },
  {
   "cell_type": "code",
   "execution_count": 59,
   "metadata": {},
   "outputs": [
    {
     "data": {
      "text/plain": [
       "'2021-10-14T13:44:53.779887'"
      ]
     },
     "execution_count": 59,
     "metadata": {},
     "output_type": "execute_result"
    }
   ],
   "source": [
    "import datetime\n",
    "datetime.datetime.now().isoformat()"
   ]
  },
  {
   "cell_type": "code",
   "execution_count": 62,
   "metadata": {},
   "outputs": [
    {
     "data": {
      "text/plain": [
       "<SkyCoord (Heliocentric: obstime=2021-10-14T13:45:00.228, observer=<HeliographicStonyhurst Coordinate for 'earth'>): (x, y, z) in AU\n",
       "    (0.00048146, 0.00173325, 0.00428846)>"
      ]
     },
     "execution_count": 62,
     "metadata": {},
     "output_type": "execute_result"
    }
   ],
   "source": [
    "sc.transform_to(\"heliocentric\")"
   ]
  },
  {
   "cell_type": "code",
   "execution_count": null,
   "metadata": {},
   "outputs": [],
   "source": []
  }
 ],
 "metadata": {
  "kernelspec": {
   "display_name": "Python 3",
   "language": "python",
   "name": "python3"
  },
  "language_info": {
   "codemirror_mode": {
    "name": "ipython",
    "version": 3
   },
   "file_extension": ".py",
   "mimetype": "text/x-python",
   "name": "python",
   "nbconvert_exporter": "python",
   "pygments_lexer": "ipython3",
   "version": "3.8.10"
  }
 },
 "nbformat": 4,
 "nbformat_minor": 4
}
